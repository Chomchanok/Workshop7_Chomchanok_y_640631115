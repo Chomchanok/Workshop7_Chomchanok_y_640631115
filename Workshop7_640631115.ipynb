{
  "nbformat": 4,
  "nbformat_minor": 0,
  "metadata": {
    "colab": {
      "name": "Workshop7_640631115",
      "provenance": [],
      "collapsed_sections": []
    },
    "kernelspec": {
      "name": "python3",
      "display_name": "Python 3"
    },
    "language_info": {
      "name": "python"
    }
  },
  "cells": [
    {
      "cell_type": "code",
      "metadata": {
        "id": "shnZJ2R_asKL"
      },
      "source": [
        "import pandas as pd\n",
        "from sklearn.model_selection import train_test_split\n",
        "from sklearn.neighbors import KNeighborsClassifier\n",
        "import statistics\n",
        "from sklearn import metrics\n",
        "import matplotlib.pyplot as plt"
      ],
      "execution_count": 64,
      "outputs": []
    },
    {
      "cell_type": "code",
      "metadata": {
        "id": "j92_649dbfo0"
      },
      "source": [
        "df = pd.read_csv('Iris.csv')"
      ],
      "execution_count": 84,
      "outputs": []
    },
    {
      "cell_type": "code",
      "metadata": {
        "colab": {
          "base_uri": "https://localhost:8080/",
          "height": 423
        },
        "id": "iIslA_3kfiIc",
        "outputId": "671f2260-7ce4-400b-c427-63f050517a99"
      },
      "source": [
        "df"
      ],
      "execution_count": 85,
      "outputs": [
        {
          "output_type": "execute_result",
          "data": {
            "text/html": [
              "<div>\n",
              "<style scoped>\n",
              "    .dataframe tbody tr th:only-of-type {\n",
              "        vertical-align: middle;\n",
              "    }\n",
              "\n",
              "    .dataframe tbody tr th {\n",
              "        vertical-align: top;\n",
              "    }\n",
              "\n",
              "    .dataframe thead th {\n",
              "        text-align: right;\n",
              "    }\n",
              "</style>\n",
              "<table border=\"1\" class=\"dataframe\">\n",
              "  <thead>\n",
              "    <tr style=\"text-align: right;\">\n",
              "      <th></th>\n",
              "      <th>Id</th>\n",
              "      <th>SepalLengthCm</th>\n",
              "      <th>SepalWidthCm</th>\n",
              "      <th>PetalLengthCm</th>\n",
              "      <th>PetalWidthCm</th>\n",
              "      <th>Species</th>\n",
              "    </tr>\n",
              "  </thead>\n",
              "  <tbody>\n",
              "    <tr>\n",
              "      <th>0</th>\n",
              "      <td>1</td>\n",
              "      <td>5.1</td>\n",
              "      <td>3.5</td>\n",
              "      <td>1.4</td>\n",
              "      <td>0.2</td>\n",
              "      <td>Iris-setosa</td>\n",
              "    </tr>\n",
              "    <tr>\n",
              "      <th>1</th>\n",
              "      <td>2</td>\n",
              "      <td>4.9</td>\n",
              "      <td>3.0</td>\n",
              "      <td>1.4</td>\n",
              "      <td>0.2</td>\n",
              "      <td>Iris-setosa</td>\n",
              "    </tr>\n",
              "    <tr>\n",
              "      <th>2</th>\n",
              "      <td>3</td>\n",
              "      <td>4.7</td>\n",
              "      <td>3.2</td>\n",
              "      <td>1.3</td>\n",
              "      <td>0.2</td>\n",
              "      <td>Iris-setosa</td>\n",
              "    </tr>\n",
              "    <tr>\n",
              "      <th>3</th>\n",
              "      <td>4</td>\n",
              "      <td>4.6</td>\n",
              "      <td>3.1</td>\n",
              "      <td>1.5</td>\n",
              "      <td>0.2</td>\n",
              "      <td>Iris-setosa</td>\n",
              "    </tr>\n",
              "    <tr>\n",
              "      <th>4</th>\n",
              "      <td>5</td>\n",
              "      <td>5.0</td>\n",
              "      <td>3.6</td>\n",
              "      <td>1.4</td>\n",
              "      <td>0.2</td>\n",
              "      <td>Iris-setosa</td>\n",
              "    </tr>\n",
              "    <tr>\n",
              "      <th>...</th>\n",
              "      <td>...</td>\n",
              "      <td>...</td>\n",
              "      <td>...</td>\n",
              "      <td>...</td>\n",
              "      <td>...</td>\n",
              "      <td>...</td>\n",
              "    </tr>\n",
              "    <tr>\n",
              "      <th>145</th>\n",
              "      <td>146</td>\n",
              "      <td>6.7</td>\n",
              "      <td>3.0</td>\n",
              "      <td>5.2</td>\n",
              "      <td>2.3</td>\n",
              "      <td>Iris-virginica</td>\n",
              "    </tr>\n",
              "    <tr>\n",
              "      <th>146</th>\n",
              "      <td>147</td>\n",
              "      <td>6.3</td>\n",
              "      <td>2.5</td>\n",
              "      <td>5.0</td>\n",
              "      <td>1.9</td>\n",
              "      <td>Iris-virginica</td>\n",
              "    </tr>\n",
              "    <tr>\n",
              "      <th>147</th>\n",
              "      <td>148</td>\n",
              "      <td>6.5</td>\n",
              "      <td>3.0</td>\n",
              "      <td>5.2</td>\n",
              "      <td>2.0</td>\n",
              "      <td>Iris-virginica</td>\n",
              "    </tr>\n",
              "    <tr>\n",
              "      <th>148</th>\n",
              "      <td>149</td>\n",
              "      <td>6.2</td>\n",
              "      <td>3.4</td>\n",
              "      <td>5.4</td>\n",
              "      <td>2.3</td>\n",
              "      <td>Iris-virginica</td>\n",
              "    </tr>\n",
              "    <tr>\n",
              "      <th>149</th>\n",
              "      <td>150</td>\n",
              "      <td>5.9</td>\n",
              "      <td>3.0</td>\n",
              "      <td>5.1</td>\n",
              "      <td>1.8</td>\n",
              "      <td>Iris-virginica</td>\n",
              "    </tr>\n",
              "  </tbody>\n",
              "</table>\n",
              "<p>150 rows × 6 columns</p>\n",
              "</div>"
            ],
            "text/plain": [
              "      Id  SepalLengthCm  ...  PetalWidthCm         Species\n",
              "0      1            5.1  ...           0.2     Iris-setosa\n",
              "1      2            4.9  ...           0.2     Iris-setosa\n",
              "2      3            4.7  ...           0.2     Iris-setosa\n",
              "3      4            4.6  ...           0.2     Iris-setosa\n",
              "4      5            5.0  ...           0.2     Iris-setosa\n",
              "..   ...            ...  ...           ...             ...\n",
              "145  146            6.7  ...           2.3  Iris-virginica\n",
              "146  147            6.3  ...           1.9  Iris-virginica\n",
              "147  148            6.5  ...           2.0  Iris-virginica\n",
              "148  149            6.2  ...           2.3  Iris-virginica\n",
              "149  150            5.9  ...           1.8  Iris-virginica\n",
              "\n",
              "[150 rows x 6 columns]"
            ]
          },
          "metadata": {},
          "execution_count": 85
        }
      ]
    },
    {
      "cell_type": "code",
      "metadata": {
        "id": "KFZen5TpbhJa"
      },
      "source": [
        "x_train, x_test, y_train, y_test = train_test_split(df[['SepalLengthCm', 'SepalWidthCm', \n",
        "                                                        'PetalLengthCm', 'PetalWidthCm']],\n",
        "                                                    df['Species'], random_state = 0, train_size = 0.6, test_size = 0.4, stratify = df['Species'])"
      ],
      "execution_count": 88,
      "outputs": []
    },
    {
      "cell_type": "code",
      "metadata": {
        "colab": {
          "base_uri": "https://localhost:8080/"
        },
        "id": "Am1juBeWb8z4",
        "outputId": "87e9d7d2-9bc0-40cb-f8b9-6e3c832d1306"
      },
      "source": [
        "print(\"x_train shape: {}\\ny_train shape: {}\".format(x_train.shape, y_train.shape))\n",
        "print(\"x_test shape: {}\\ny_test shape: {}\".format(x_test.shape, y_test.shape))"
      ],
      "execution_count": 89,
      "outputs": [
        {
          "output_type": "stream",
          "name": "stdout",
          "text": [
            "x_train shape: (90, 4)\n",
            "y_train shape: (90,)\n",
            "x_test shape: (60, 4)\n",
            "y_test shape: (60,)\n"
          ]
        }
      ]
    },
    {
      "cell_type": "markdown",
      "metadata": {
        "id": "z3dggvF9oJ0d"
      },
      "source": [
        "# Use random KNN value"
      ]
    },
    {
      "cell_type": "code",
      "metadata": {
        "id": "ee6Sogc-SvPH"
      },
      "source": [
        "knn = KNeighborsClassifier(n_neighbors=47, metric = 'euclidean')"
      ],
      "execution_count": 108,
      "outputs": []
    },
    {
      "cell_type": "code",
      "metadata": {
        "colab": {
          "base_uri": "https://localhost:8080/"
        },
        "id": "q4ISG7-XFfyK",
        "outputId": "fa317562-fe62-4b41-c67f-7eca221161c8"
      },
      "source": [
        "knn.fit(x_train, y_train)\n",
        "y_pred = knn.predict(x_test)\n",
        "print('Accuracy rate: ', metrics.accuracy_score(y_test, y_pred))\n",
        "print('Confusion matrix:')\n",
        "print(metrics.confusion_matrix(y_test, y_pred))\n",
        "print(metrics.classification_report(y_test, y_pred))"
      ],
      "execution_count": 109,
      "outputs": [
        {
          "output_type": "stream",
          "name": "stdout",
          "text": [
            "Accuracy rate:  0.85\n",
            "Confusion matrix:\n",
            "[[20  0  0]\n",
            " [ 1 17  2]\n",
            " [ 0  6 14]]\n",
            "                 precision    recall  f1-score   support\n",
            "\n",
            "    Iris-setosa       0.95      1.00      0.98        20\n",
            "Iris-versicolor       0.74      0.85      0.79        20\n",
            " Iris-virginica       0.88      0.70      0.78        20\n",
            "\n",
            "       accuracy                           0.85        60\n",
            "      macro avg       0.86      0.85      0.85        60\n",
            "   weighted avg       0.86      0.85      0.85        60\n",
            "\n"
          ]
        }
      ]
    },
    {
      "cell_type": "markdown",
      "metadata": {
        "id": "pfkdCzwqUEtk"
      },
      "source": [
        "# Plot accuracy scores of train vs test experimenting with different n values"
      ]
    },
    {
      "cell_type": "code",
      "metadata": {
        "colab": {
          "base_uri": "https://localhost:8080/",
          "height": 295
        },
        "id": "r8uM6gybPnSs",
        "outputId": "4613d26c-ce58-437d-c7c9-ee3322fc4290"
      },
      "source": [
        "k_range = list(range(1,50))\n",
        "scores = []\n",
        "for k in k_range:\n",
        "    knn = KNeighborsClassifier(n_neighbors=k ,metric='euclidean')\n",
        "    knn.fit(x_train, y_train)\n",
        "    y_pred = knn.predict(x_test)\n",
        "    scores.append(metrics.accuracy_score(y_test, y_pred))\n",
        "    \n",
        "plt.plot(k_range, scores)\n",
        "plt.xlabel('Value of k for KNN')\n",
        "plt.ylabel('Accuracy Score')\n",
        "plt.title('Accuracy Scores for Values of k of k-Nearest-Neighbors')\n",
        "plt.show()"
      ],
      "execution_count": 94,
      "outputs": [
        {
          "output_type": "display_data",
          "data": {
            "image/png": "[encoded data removed]",
            "text/plain": [
              "<Figure size 432x288 with 1 Axes>"
            ]
          },
          "metadata": {
            "needs_background": "light"
          }
        }
      ]
    },
    {
      "cell_type": "markdown",
      "metadata": {
        "id": "Zq2FSG9FUZql"
      },
      "source": [
        "# show accuracy scores after call function KNN by using eucliedean metric for distance calculation"
      ]
    },
    {
      "cell_type": "code",
      "metadata": {
        "colab": {
          "base_uri": "https://localhost:8080/"
        },
        "id": "HE_GpZJqMxsc",
        "outputId": "1dad5b50-c30e-4b69-a89c-0e2b56df7c6d"
      },
      "source": [
        "data = {'K_range': k_range,\n",
        "        'Scores': scores}\n",
        "df = pd.DataFrame(data)\n",
        "print(df)"
      ],
      "execution_count": 95,
      "outputs": [
        {
          "output_type": "stream",
          "name": "stdout",
          "text": [
            "    K_range    Scores\n",
            "0         1  0.983333\n",
            "1         2  0.950000\n",
            "2         3  1.000000\n",
            "3         4  1.000000\n",
            "4         5  0.983333\n",
            "5         6  0.983333\n",
            "6         7  0.983333\n",
            "7         8  0.983333\n",
            "8         9  0.966667\n",
            "9        10  0.966667\n",
            "10       11  0.966667\n",
            "11       12  0.966667\n",
            "12       13  0.966667\n",
            "13       14  0.950000\n",
            "14       15  0.966667\n",
            "15       16  0.950000\n",
            "16       17  0.966667\n",
            "17       18  0.933333\n",
            "18       19  0.950000\n",
            "19       20  0.950000\n",
            "20       21  0.950000\n",
            "21       22  0.950000\n",
            "22       23  0.950000\n",
            "23       24  0.950000\n",
            "24       25  0.966667\n",
            "25       26  0.966667\n",
            "26       27  0.966667\n",
            "27       28  0.950000\n",
            "28       29  0.966667\n",
            "29       30  0.933333\n",
            "30       31  0.933333\n",
            "31       32  0.900000\n",
            "32       33  0.916667\n",
            "33       34  0.916667\n",
            "34       35  0.916667\n",
            "35       36  0.883333\n",
            "36       37  0.900000\n",
            "37       38  0.883333\n",
            "38       39  0.933333\n",
            "39       40  0.900000\n",
            "40       41  0.916667\n",
            "41       42  0.900000\n",
            "42       43  0.900000\n",
            "43       44  0.900000\n",
            "44       45  0.916667\n",
            "45       46  0.883333\n",
            "46       47  0.850000\n",
            "47       48  0.866667\n",
            "48       49  0.866667\n"
          ]
        }
      ]
    },
    {
      "cell_type": "markdown",
      "metadata": {
        "id": "pAGIw1ejTpKG"
      },
      "source": [
        "# Get KNeighbors value which generate high accuracy score"
      ]
    },
    {
      "cell_type": "code",
      "metadata": {
        "id": "YY0SlEgmRG-p"
      },
      "source": [
        "knn = KNeighborsClassifier(n_neighbors=3, metric = 'euclidean')"
      ],
      "execution_count": 96,
      "outputs": []
    },
    {
      "cell_type": "code",
      "metadata": {
        "colab": {
          "base_uri": "https://localhost:8080/"
        },
        "id": "Lo_9bc3ORL7C",
        "outputId": "619da094-002b-4b3a-e25d-d5735e1b67b1"
      },
      "source": [
        "knn.fit(x_train, y_train)\n",
        "y_pred = knn.predict(x_test)\n",
        "print('Accuracy rate: ', metrics.accuracy_score(y_test, y_pred))\n",
        "print('Confusion matrix:')\n",
        "print(metrics.confusion_matrix(y_test, y_pred))\n",
        "print(metrics.classification_report(y_test, y_pred))"
      ],
      "execution_count": 97,
      "outputs": [
        {
          "output_type": "stream",
          "name": "stdout",
          "text": [
            "Accuracy rate:  1.0\n",
            "Confusion matrix:\n",
            "[[20  0  0]\n",
            " [ 0 20  0]\n",
            " [ 0  0 20]]\n",
            "                 precision    recall  f1-score   support\n",
            "\n",
            "    Iris-setosa       1.00      1.00      1.00        20\n",
            "Iris-versicolor       1.00      1.00      1.00        20\n",
            " Iris-virginica       1.00      1.00      1.00        20\n",
            "\n",
            "       accuracy                           1.00        60\n",
            "      macro avg       1.00      1.00      1.00        60\n",
            "   weighted avg       1.00      1.00      1.00        60\n",
            "\n"
          ]
        }
      ]
    },
    {
      "cell_type": "markdown",
      "metadata": {
        "id": "szkLv5EPS540"
      },
      "source": [
        "#Comparison between other models\n",
        "\n",
        "\n",
        "\n",
        "\n"
      ]
    },
    {
      "cell_type": "markdown",
      "metadata": {
        "id": "Fwe0qSc9TjiA"
      },
      "source": [
        "* LogisticRegression"
      ]
    },
    {
      "cell_type": "code",
      "metadata": {
        "id": "u1z9591wRbrT"
      },
      "source": [
        "from sklearn.linear_model import LogisticRegression"
      ],
      "execution_count": 98,
      "outputs": []
    },
    {
      "cell_type": "code",
      "metadata": {
        "colab": {
          "base_uri": "https://localhost:8080/"
        },
        "id": "51sXm1K5RX3M",
        "outputId": "cd5e83eb-eb82-4a86-c44d-5c8bb98661dd"
      },
      "source": [
        "logreg = LogisticRegression()\n",
        "y_pred = logreg.fit(x_train, y_train).predict(x_test)\n",
        "print('Accuracy rate: ', metrics.accuracy_score(y_test, y_pred))\n",
        "print('Confusion matrix:')\n",
        "print(metrics.confusion_matrix(y_test, y_pred))\n",
        "print(metrics.classification_report(y_test, y_pred))"
      ],
      "execution_count": 99,
      "outputs": [
        {
          "output_type": "stream",
          "name": "stdout",
          "text": [
            "Accuracy rate:  0.9833333333333333\n",
            "Confusion matrix:\n",
            "[[20  0  0]\n",
            " [ 0 19  1]\n",
            " [ 0  0 20]]\n",
            "                 precision    recall  f1-score   support\n",
            "\n",
            "    Iris-setosa       1.00      1.00      1.00        20\n",
            "Iris-versicolor       1.00      0.95      0.97        20\n",
            " Iris-virginica       0.95      1.00      0.98        20\n",
            "\n",
            "       accuracy                           0.98        60\n",
            "      macro avg       0.98      0.98      0.98        60\n",
            "   weighted avg       0.98      0.98      0.98        60\n",
            "\n"
          ]
        },
        {
          "output_type": "stream",
          "name": "stderr",
          "text": [
            "/usr/local/lib/python3.7/dist-packages/sklearn/linear_model/_logistic.py:940: ConvergenceWarning: lbfgs failed to converge (status=1):\n",
            "STOP: TOTAL NO. of ITERATIONS REACHED LIMIT.\n",
            "\n",
            "Increase the number of iterations (max_iter) or scale the data as shown in:\n",
            "    https://scikit-learn.org/stable/modules/preprocessing.html\n",
            "Please also refer to the documentation for alternative solver options:\n",
            "    https://scikit-learn.org/stable/modules/linear_model.html#logistic-regression\n",
            "  extra_warning_msg=_LOGISTIC_SOLVER_CONVERGENCE_MSG)\n"
          ]
        }
      ]
    },
    {
      "cell_type": "markdown",
      "metadata": {
        "id": "rtliAOSjTWbf"
      },
      "source": [
        "* GaussianNB "
      ]
    },
    {
      "cell_type": "code",
      "metadata": {
        "id": "du6tGmNCSJ7J"
      },
      "source": [
        "from sklearn.naive_bayes import GaussianNB"
      ],
      "execution_count": 100,
      "outputs": []
    },
    {
      "cell_type": "code",
      "metadata": {
        "colab": {
          "base_uri": "https://localhost:8080/"
        },
        "id": "4uF73yM3Sey4",
        "outputId": "ac3a21b7-44d4-46e1-b524-e5c85d268dc9"
      },
      "source": [
        "gnb = GaussianNB()\n",
        "y_pred = gnb.fit(x_train, y_train).predict(x_test)\n",
        "print('Accuracy rate: ', metrics.accuracy_score(y_test, y_pred))\n",
        "print('Confusion matrix:')\n",
        "print(metrics.confusion_matrix(y_test, y_pred))\n",
        "print(metrics.classification_report(y_test, y_pred))"
      ],
      "execution_count": 101,
      "outputs": [
        {
          "output_type": "stream",
          "name": "stdout",
          "text": [
            "Accuracy rate:  0.9666666666666667\n",
            "Confusion matrix:\n",
            "[[20  0  0]\n",
            " [ 0 19  1]\n",
            " [ 0  1 19]]\n",
            "                 precision    recall  f1-score   support\n",
            "\n",
            "    Iris-setosa       1.00      1.00      1.00        20\n",
            "Iris-versicolor       0.95      0.95      0.95        20\n",
            " Iris-virginica       0.95      0.95      0.95        20\n",
            "\n",
            "       accuracy                           0.97        60\n",
            "      macro avg       0.97      0.97      0.97        60\n",
            "   weighted avg       0.97      0.97      0.97        60\n",
            "\n"
          ]
        }
      ]
    }
  ]
}